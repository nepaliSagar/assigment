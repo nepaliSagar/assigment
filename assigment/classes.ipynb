{
 "cells": [
  {
   "cell_type": "markdown",
   "metadata": {},
   "source": [
    "### Classes"
   ]
  },
  {
   "cell_type": "code",
   "execution_count": null,
   "metadata": {},
   "outputs": [],
   "source": [
    "# 1. Rectangle\n",
    "\n",
    "class Rectangle:\n",
    "    def __init__(self):\n",
    "        self.length = int(input(\"Enter length: \"))\n",
    "        self.width = int(input(\"Enter width: \"))\n",
    "\n",
    "    def area(self):\n",
    "        return f\"Area of rectangle is {self.length * self.width}\" \n",
    "    \n",
    "    def perimeter(self):\n",
    "        return f\"Perimeter of rectangle is {2 * (self.length * self.width)}\"\n",
    "\n",
    "rec1 = Rectangle()\n",
    "rec1.rectangle_area()"
   ]
  },
  {
   "cell_type": "code",
   "execution_count": null,
   "metadata": {},
   "outputs": [],
   "source": [
    "# 2. Student\n",
    "\n",
    "class Student:\n",
    "    def __init__(self,):\n",
    "        self.name = input(\"Enter your name: \")\n",
    "        self.roll_number = int(input(\"Enter your roll no: \"))\n",
    "        self.marks = float(input(\"Enter you total marks: \"))\n",
    "\n",
    "    def display_details(self):\n",
    "        return f\"Student: Name is {self.name}. Roll number is {self.roll_number}. Marks obtain is {self.marks}: \"\n",
    "    \n",
    "    def is_passed(self):\n",
    "        return ('Passed') if self.marks >= 40 else print(\"Failed\")\n",
    "    \n",
    "student_1 = Student()\n",
    "print(student_1.display_details(), student_1.is_passed())"
   ]
  },
  {
   "cell_type": "code",
   "execution_count": null,
   "metadata": {},
   "outputs": [],
   "source": [
    "# 3. Circle\n",
    "\n",
    "from math import pi\n",
    "\n",
    "class Circle:\n",
    "    def __init__(self):\n",
    "        self.radius =  int(input(\"Enter circle radius: \"))\n",
    "\n",
    "    def area(self):\n",
    "        return pi*self.radius*self.radius\n",
    "    \n",
    "    def circumferenc(self):\n",
    "        return 2*pi*self.radius\n",
    "\n",
    "circle_1 = Circle()\n",
    "print(f\"Circle Area: {circle_1.area()}, Circle Parameter: {circle_1.circumferenc()}\")\n"
   ]
  },
  {
   "cell_type": "code",
   "execution_count": null,
   "metadata": {},
   "outputs": [],
   "source": [
    "# 3. Bank Account\n",
    "\n",
    "class BankAccount:\n",
    "    def __init__(self, account_number, account_holder, balance):\n",
    "        self.account_number = account_number\n",
    "        self.account_holder = account_holder\n",
    "        self.balance = balance\n",
    "\n",
    "    def info(self):\n",
    "        return f\"Account Holder name: {self.account_holder}\"\n",
    "\n",
    "    def deposite(self):\n",
    "        amount = int(input(\"Enter amount to deposite: \"))\n",
    "        return f\"Previous amount: {self.balance}, New amount: {self.balance + amount}\"\n",
    "\n",
    "    def withdraw(self):\n",
    "        amount = int(input(\"Enter amount to withdraw: \"))\n",
    "        if self.balance > amount:\n",
    "            return f\"Previous amount: {self.balance}, New amount: {self.balance - amount}\"\n",
    "        else:\n",
    "            print(\"Insuffucient balance\")\n",
    "\n",
    "    def display_balance(self):\n",
    "        return self.balance\n",
    "\n",
    "person_1 = BankAccount(123, \"Sagar\", 90)\n",
    "print(f\"{person_1.info()}, Current amount: {person_1.display_balance()}\")\n",
    "\n",
    "print(f\"{person_1.deposite()}\")\n",
    "print(f\"{person_1.withdraw()}\")\n",
    "\n",
    "\n"
   ]
  },
  {
   "cell_type": "code",
   "execution_count": null,
   "metadata": {},
   "outputs": [],
   "source": [
    "# 4. Book\n",
    "\n",
    "class Book:\n",
    "    def __init__(self, title, author, price):\n",
    "        self.title = title\n",
    "        self.author = author\n",
    "        self.price = price\n",
    "\n",
    "    def apply_discount(self, discount):\n",
    "        return self.price - discount\n",
    "\n",
    "    def display_details(self, discount):\n",
    "        discounted_price = self.apply_discount(discount)\n",
    "        return f\"Title of book ie {self.title} by {self.author}. Which cost {self.price} but after discount it cost {discounted_price}\"\n",
    "\n",
    "book_1 = Book(\"Hello world\", \"Sagar\", 123)\n",
    "\n",
    "print(book_1.display_details(10))"
   ]
  },
  {
   "cell_type": "code",
   "execution_count": null,
   "metadata": {},
   "outputs": [],
   "source": [
    "# 5. Calculator\n",
    "\n",
    "class Calculator:\n",
    "    def __init__(self,a,b):\n",
    "        self.a = a\n",
    "        self.b = b\n",
    "    \n",
    "    def add(self):\n",
    "        return self.a + self.b\n",
    "    \n",
    "    def sub(self):\n",
    "        return self.a - self.b\n",
    "\n",
    "    def multiply(self):\n",
    "        return self.a * self.b\n",
    "\n",
    "    def divide(self):\n",
    "        return self.a / self.b if self.b != 0 else print(\"Zero\")\n",
    "\n",
    "first = Calculator(0,5)\n",
    "print(first.divide())\n"
   ]
  },
  {
   "cell_type": "code",
   "execution_count": null,
   "metadata": {},
   "outputs": [],
   "source": [
    "# 6. Person\n",
    "\n",
    "class Person:\n",
    "    def __init__(self, name, age, gender):\n",
    "        self.name = name\n",
    "        self.age = age\n",
    "        self.gender = gender\n",
    "\n",
    "    def introduction(self):\n",
    "        return f\"Hello, my name is {self.name}, I am {self.age} years old, and I am {self.gender}.\"\n",
    "\n",
    "class Employee(Person):\n",
    "    def __init__(self, name, age, gender, job_title):\n",
    "        super().__init__(name, age, gender)\n",
    "        self.job_title = job_title\n",
    "\n",
    "    def introduction(self):\n",
    "        return f\"Hello, my name is {self.name}, I am {self.age} years old, and Gender is {self.gender}. I work as {self.job_title}.\"\n",
    "\n",
    "person_1 = Employee(\"sagar\", 20, \"male\", \"programmer\")\n",
    "\n",
    "print(person_1.introduction())\n"
   ]
  }
 ],
 "metadata": {
  "kernelspec": {
   "display_name": "Python 3",
   "language": "python",
   "name": "python3"
  },
  "language_info": {
   "codemirror_mode": {
    "name": "ipython",
    "version": 3
   },
   "file_extension": ".py",
   "mimetype": "text/x-python",
   "name": "python",
   "nbconvert_exporter": "python",
   "pygments_lexer": "ipython3",
   "version": "3.13.1"
  }
 },
 "nbformat": 4,
 "nbformat_minor": 2
}
