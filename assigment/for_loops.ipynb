{
 "cells": [
  {
   "cell_type": "markdown",
   "metadata": {},
   "source": [
    "# For Loops"
   ]
  },
  {
   "cell_type": "code",
   "execution_count": null,
   "metadata": {},
   "outputs": [],
   "source": [
    "# 1. Multiplication\n",
    "\n",
    "value = int(input(\"Enter a number: \"))\n",
    "for n in range(1,11):\n",
    "    print(f\"{value} * {n} = {value * n}\")"
   ]
  },
  {
   "cell_type": "code",
   "execution_count": null,
   "metadata": {},
   "outputs": [],
   "source": [
    "# 2. Vowel letter\n",
    "\n",
    "VOWEL = ([\"a\",\"e\",\"i\",\"o\",\"u\"])\n",
    "total = 0\n",
    "\n",
    "letter = input(\"Enter a letter (eg: fish, car): \")\n",
    "for x in letter:\n",
    "    if x in VOWEL:\n",
    "        total += 1\n",
    "    \n",
    "print(f\"Total number of vowel is {total} in letter {letter}.\")"
   ]
  },
  {
   "cell_type": "code",
   "execution_count": null,
   "metadata": {},
   "outputs": [],
   "source": [
    "# 3. Largest OR Smallest\n",
    "\n",
    "value = map(int, input(\"Enter a list of number (eg: 1,2,3): \").split(','))\n",
    "value = list(value)\n",
    "\n",
    "max_value = value[0]\n",
    "min_value = value[0]\n",
    "\n",
    "for number in value:\n",
    "        if number > max_value:\n",
    "            max_value = number\n",
    "        if number < min_value:\n",
    "            min_value = number\n",
    "    \n",
    "print(f\"Largest number: {max_value}.\\nSmallest number: {min_value}.\")"
   ]
  },
  {
   "cell_type": "code",
   "execution_count": null,
   "metadata": {},
   "outputs": [],
   "source": [
    "# 4. Sum of number\n",
    "\n",
    "value = map(int, input(\"Enter a list of number (eg: 1,2,3): \").split(','))\n",
    "value = list(value)\n",
    "\n",
    "total = 0\n",
    "for number in value:\n",
    "    total += number\n",
    "\n",
    "print(total)"
   ]
  },
  {
   "cell_type": "code",
   "execution_count": null,
   "metadata": {},
   "outputs": [],
   "source": [
    "# 5. Reverse letter\n",
    "\n",
    "letter = input(\"Enter a letter (eg: fish, car): \")\n",
    "\n",
    "for x in reversed(letter):\n",
    "    print(x, end=\"\")"
   ]
  }
 ],
 "metadata": {
  "kernelspec": {
   "display_name": "Python 3",
   "language": "python",
   "name": "python3"
  },
  "language_info": {
   "codemirror_mode": {
    "name": "ipython",
    "version": 3
   },
   "file_extension": ".py",
   "mimetype": "text/x-python",
   "name": "python",
   "nbconvert_exporter": "python",
   "pygments_lexer": "ipython3",
   "version": "3.13.1"
  }
 },
 "nbformat": 4,
 "nbformat_minor": 2
}
