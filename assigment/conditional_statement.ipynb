{
 "cells": [
  {
   "cell_type": "markdown",
   "metadata": {},
   "source": [
    "# Conditional Statement"
   ]
  },
  {
   "cell_type": "code",
   "execution_count": null,
   "metadata": {},
   "outputs": [],
   "source": [
    "# 1. Even OR Odd\n",
    "\n",
    "number = int(input(\"Enter a number: \"))\n",
    "print(\"Even\") if number % 2 == 0 else print(\"Odd\") "
   ]
  },
  {
   "cell_type": "code",
   "execution_count": null,
   "metadata": {},
   "outputs": [],
   "source": [
    "# 2. Positive, Negative OR Equal\n",
    "\n",
    "number = int(input(\"Enter a number: \"))\n",
    "if number > 0:\n",
    "    print(f\"Number {number}, is POSITIVE.\")\n",
    "elif number < 0:\n",
    "    print(f\"Number {number}, is NEGATIVE.\")\n",
    "else:\n",
    "    print(f\"Number is ZERO.\")"
   ]
  },
  {
   "cell_type": "code",
   "execution_count": null,
   "metadata": {},
   "outputs": [],
   "source": [
    "# 3. Voting Age\n",
    "\n",
    "userAge = int(input(\"Enter your Age: \"))\n",
    "print(\"You can Vote.\") if userAge >= 18 else print(\"You can't Vote.\") "
   ]
  },
  {
   "cell_type": "code",
   "execution_count": null,
   "metadata": {},
   "outputs": [],
   "source": [
    "# 4. Types of Triangle\n",
    "\n",
    "x = int(input(\"Enter 'x' side value: \"))\n",
    "y = int(input(\"Enter 'y' side value: \"))\n",
    "z = int(input(\"Enter 'z' side value: \"))\n",
    "\n",
    "if x == y == z:\n",
    "    print(\"This is Equilateral Triangle.\")\n",
    "elif x != y != z:\n",
    "    print(\"This is Scalene Triangle.\")\n",
    "else:\n",
    "    print(\"This is Isosceles Triangle.\")"
   ]
  },
  {
   "cell_type": "code",
   "execution_count": null,
   "metadata": {},
   "outputs": [],
   "source": [
    "# 5. Password\n",
    "DEFAULT = \"Python123\"\n",
    "\n",
    "password = input(\"Enter a password: \")\n",
    "print(\"CORRECT\") if password == DEFAULT else print(\"INCORRECT\") "
   ]
  }
 ],
 "metadata": {
  "kernelspec": {
   "display_name": "Python 3",
   "language": "python",
   "name": "python3"
  },
  "language_info": {
   "codemirror_mode": {
    "name": "ipython",
    "version": 3
   },
   "file_extension": ".py",
   "mimetype": "text/x-python",
   "name": "python",
   "nbconvert_exporter": "python",
   "pygments_lexer": "ipython3",
   "version": "3.13.1"
  }
 },
 "nbformat": 4,
 "nbformat_minor": 2
}
