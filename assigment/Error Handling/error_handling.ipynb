{
 "cells": [
  {
   "cell_type": "markdown",
   "metadata": {},
   "source": [
    "# Error Handling"
   ]
  },
  {
   "cell_type": "code",
   "execution_count": null,
   "metadata": {},
   "outputs": [],
   "source": [
    "# 1. Divide Zero Error\n",
    "\n",
    "first_value = int(input(\"Enter first number: \"))\n",
    "second_value = int(input(\"Enter second number: \"))\n",
    "\n",
    "try:\n",
    "    div = first_value / second_value\n",
    "    print(f\"{first_value} / {second_value} = {div:.2f}\")\n",
    "except ZeroDivisionError:\n",
    "    print(\"Zero can't divide.\")"
   ]
  },
  {
   "cell_type": "code",
   "execution_count": null,
   "metadata": {},
   "outputs": [],
   "source": [
    "# 2. Integer Input Va;idation\n",
    "\n",
    "integer = input(\"Enter a number: \")\n",
    "\n",
    "try:\n",
    "    integer = int(integer)\n",
    "except ValueError:\n",
    "    print(\"Invalid input, Please enter an integer.\")\n",
    "else:\n",
    "    print(integer)"
   ]
  },
  {
   "cell_type": "code",
   "execution_count": 4,
   "metadata": {},
   "outputs": [
    {
     "name": "stdout",
     "output_type": "stream",
     "text": [
      "File Found\n"
     ]
    }
   ],
   "source": [
    "# 3. File not found\n",
    "\n",
    "try:\n",
    "    with open('unknown.txt', 'r')as file:\n",
    "        content = file.read()\n",
    "        print(content)\n",
    "        file.close()\n",
    "except FileNotFoundError:\n",
    "    print(\"File not found.\")"
   ]
  }
 ],
 "metadata": {
  "kernelspec": {
   "display_name": "Python 3",
   "language": "python",
   "name": "python3"
  },
  "language_info": {
   "codemirror_mode": {
    "name": "ipython",
    "version": 3
   },
   "file_extension": ".py",
   "mimetype": "text/x-python",
   "name": "python",
   "nbconvert_exporter": "python",
   "pygments_lexer": "ipython3",
   "version": "3.13.1"
  }
 },
 "nbformat": 4,
 "nbformat_minor": 2
}
