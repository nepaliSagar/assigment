{
 "cells": [
  {
   "cell_type": "markdown",
   "metadata": {},
   "source": [
    "# Functions"
   ]
  },
  {
   "cell_type": "code",
   "execution_count": null,
   "metadata": {},
   "outputs": [],
   "source": [
    "# 1. Factorial \n",
    "\n",
    "def factorial(n):\n",
    "    count = 1 \n",
    "    for numbers in range(2, n + 1):\n",
    "        count *= numbers\n",
    "    return count\n",
    "\n",
    "number = int(input(\"Enter a number: \"))\n",
    "print(factorial(number))"
   ]
  },
  {
   "cell_type": "code",
   "execution_count": null,
   "metadata": {},
   "outputs": [],
   "source": [
    "# 2. Prime Check\n",
    "\n",
    "def is_prime(n):\n",
    "    isNot_prime = False\n",
    "\n",
    "    if n == 0 or n == 1:\n",
    "        print(f\"{n} is not a Prime Number\")\n",
    "    elif n > 1:\n",
    "        for i in range(2, n):\n",
    "            if n % i == 0:\n",
    "                isNot_prime = True\n",
    "                break\n",
    "        if isNot_prime:\n",
    "            print(f\"{n} is not a Prime Number\")\n",
    "        else:\n",
    "            print(f\"{n} is Prime Number\")\n",
    "\n",
    "number = int(input(\"Enter a number: \"))\n",
    "print(is_prime(number))"
   ]
  },
  {
   "cell_type": "code",
   "execution_count": null,
   "metadata": {},
   "outputs": [],
   "source": [
    "# 3. Maximum\n",
    "\n",
    "def find_max(lst):\n",
    "    return f\"Max = {max(lst)}\"\n",
    "\n",
    "number = map(int, input(\"Enter a list of number (eg: 3,2,1): \").split(\",\"))\n",
    "number = list(number)\n",
    "print(find_max(number))"
   ]
  },
  {
   "cell_type": "code",
   "execution_count": null,
   "metadata": {},
   "outputs": [],
   "source": [
    "# 4. Palindrome\n",
    "\n",
    "def palindrome_check(string):\n",
    "    \n",
    "    for rev in reversed(string):\n",
    "        for stri in string:\n",
    "            pass\n",
    "\n",
    "    if rev == stri:\n",
    "        return True\n",
    "    else:\n",
    "        return False\n",
    "    \n",
    "\n",
    "letter = input(\"Enter a word: \")\n",
    "palindrome_check(letter)"
   ]
  },
  {
   "cell_type": "code",
   "execution_count": null,
   "metadata": {},
   "outputs": [],
   "source": [
    "# 5. Sum of Square\n",
    "\n",
    "def sum_of_squares(n):\n",
    "    count = 0\n",
    "    for i in range(1, n+1):\n",
    "        square = i * i\n",
    "        count += square\n",
    "    return f\"Sum of square from 1-{n}: {count}\"\n",
    "\n",
    "number = int(input(\"Enter a number: \"))\n",
    "print(sum_of_squares(number))"
   ]
  }
 ],
 "metadata": {
  "language_info": {
   "name": "python"
  }
 },
 "nbformat": 4,
 "nbformat_minor": 2
}
